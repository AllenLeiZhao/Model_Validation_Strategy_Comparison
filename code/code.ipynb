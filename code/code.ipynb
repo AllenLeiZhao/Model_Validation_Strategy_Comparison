{
  "nbformat": 4,
  "nbformat_minor": 0,
  "metadata": {
    "colab": {
      "provenance": []
    },
    "kernelspec": {
      "name": "python3",
      "display_name": "Python 3"
    },
    "language_info": {
      "name": "python"
    }
  },
  "cells": [
    {
      "cell_type": "markdown",
      "source": [
        "## Part 1: Import Libraries and Generate Dataset\n",
        "\n",
        "In this section, I import all the necessary libraries and generate a synthetic classification dataset using `make_classification`."
      ],
      "metadata": {
        "id": "jr3zvx4Kqp_r"
      }
    },
    {
      "cell_type": "code",
      "source": [
        "import numpy as np\n",
        "import matplotlib.pyplot as plt\n",
        "from sklearn.datasets import make_classification\n",
        "from sklearn.model_selection import KFold, RepeatedKFold, cross_val_score\n",
        "from sklearn.linear_model import LogisticRegression\n",
        "from sklearn.preprocessing import StandardScaler\n",
        "from sklearn.pipeline import make_pipeline\n",
        "from sklearn.ensemble import RandomForestClassifier\n",
        "from sklearn.svm import SVC\n",
        "from scipy.stats import sem"
      ],
      "metadata": {
        "id": "tjBvBMUgqtus"
      },
      "execution_count": null,
      "outputs": []
    },
    {
      "cell_type": "code",
      "source": [
        "X, y = make_classification(n_samples=1000, n_features=20,\n",
        "                           n_informative=15, n_redundant=5, random_state=1)\n",
        "print(f\"Dataset shape: X={X.shape}, y={y.shape}\")"
      ],
      "metadata": {
        "colab": {
          "base_uri": "https://localhost:8080/"
        },
        "id": "I4rr27puqyQz",
        "outputId": "0b82c971-0df1-4798-c491-51466e01c4c5"
      },
      "execution_count": null,
      "outputs": [
        {
          "output_type": "stream",
          "name": "stdout",
          "text": [
            "Dataset shape: X=(1000, 20), y=(1000,)\n"
          ]
        }
      ]
    },
    {
      "cell_type": "markdown",
      "source": [
        "## Part 2: Single 10-Fold Cross-Validation\n",
        "\n",
        "Here, I apply standard 10-fold cross-validation using logistic regression. This allows me to evaluate model performance on different train-test splits."
      ],
      "metadata": {
        "id": "-9CuIHeHq1hs"
      }
    },
    {
      "cell_type": "code",
      "source": [
        "kf = KFold(n_splits=10, shuffle=True, random_state=1)\n",
        "model = LogisticRegression(max_iter=1000)\n",
        "scores = cross_val_score(model, X, y, scoring='accuracy', cv=kf, n_jobs=-1)\n",
        "print(f\"Single 10-Fold Accuracy: {np.mean(scores):.4f} (+/- {np.std(scores):.4f})\")"
      ],
      "metadata": {
        "colab": {
          "base_uri": "https://localhost:8080/"
        },
        "id": "2lPLC2MHq4TG",
        "outputId": "df949d1c-5072-49bd-cd8c-9bc453c19676"
      },
      "execution_count": null,
      "outputs": [
        {
          "output_type": "stream",
          "name": "stdout",
          "text": [
            "Single 10-Fold Accuracy: 0.8680 (+/- 0.0319)\n"
          ]
        }
      ]
    },
    {
      "cell_type": "markdown",
      "source": [
        "## Part 3: Repeated K-Fold Cross-Validation\n",
        "\n",
        "To reduce variance and better estimate model performance, I use Repeated K-Fold validation. I repeat the 10-fold cross-validation multiple times (1 to 15) and collect accuracy scores.\n",
        "\n",
        "### Boxplot Visualization\n",
        "Each box in the plot below summarizes the accuracy scores under different repeat counts."
      ],
      "metadata": {
        "id": "lw3RwYMSq8pj"
      }
    },
    {
      "cell_type": "code",
      "source": [
        "repeats = range(1, 16)\n",
        "results = []\n",
        "for r in repeats:\n",
        "    rkf = RepeatedKFold(n_splits=10, n_repeats=r, random_state=1)\n",
        "    scores = cross_val_score(model, X, y, scoring='accuracy', cv=rkf, n_jobs=-1)\n",
        "    results.append(scores)\n",
        "    print(f\"{r} repeats: mean={np.mean(scores):.4f}, SE={sem(scores):.4f}\")"
      ],
      "metadata": {
        "colab": {
          "base_uri": "https://localhost:8080/"
        },
        "id": "da95pz1iq-40",
        "outputId": "9281bd8f-b5d4-4a9c-edda-0dda40ee2b34"
      },
      "execution_count": null,
      "outputs": [
        {
          "output_type": "stream",
          "name": "stdout",
          "text": [
            "1 repeats: mean=0.8680, SE=0.0106\n",
            "2 repeats: mean=0.8675, SE=0.0079\n",
            "3 repeats: mean=0.8673, SE=0.0058\n",
            "4 repeats: mean=0.8670, SE=0.0060\n",
            "5 repeats: mean=0.8658, SE=0.0051\n",
            "6 repeats: mean=0.8655, SE=0.0045\n",
            "7 repeats: mean=0.8651, SE=0.0040\n",
            "8 repeats: mean=0.8651, SE=0.0037\n",
            "9 repeats: mean=0.8656, SE=0.0034\n",
            "10 repeats: mean=0.8658, SE=0.0032\n",
            "11 repeats: mean=0.8655, SE=0.0030\n",
            "12 repeats: mean=0.8654, SE=0.0029\n",
            "13 repeats: mean=0.8652, SE=0.0028\n",
            "14 repeats: mean=0.8651, SE=0.0027\n",
            "15 repeats: mean=0.8653, SE=0.0026\n"
          ]
        }
      ]
    },
    {
      "cell_type": "code",
      "source": [
        "plt.figure(figsize=(10,6))\n",
        "plt.boxplot(results, labels=[str(r) for r in repeats], showmeans=True)\n",
        "plt.title(\"Accuracy vs Number of Repeats (Repeated K-Fold)\")\n",
        "plt.xlabel(\"Number of Repeats\")\n",
        "plt.ylabel(\"Accuracy\")\n",
        "plt.grid(True)\n",
        "plt.show()"
      ],
      "metadata": {
        "colab": {
          "base_uri": "https://localhost:8080/",
          "height": 620
        },
        "id": "qXokhokbrFi8",
        "outputId": "4e3b1d53-9a07-4c5d-908b-c2a66866d80b"
      },
      "execution_count": null,
      "outputs": [
        {
          "output_type": "stream",
          "name": "stderr",
          "text": [
            "<ipython-input-5-0d45d33930ac>:2: MatplotlibDeprecationWarning: The 'labels' parameter of boxplot() has been renamed 'tick_labels' since Matplotlib 3.9; support for the old name will be dropped in 3.11.\n",
            "  plt.boxplot(results, labels=[str(r) for r in repeats], showmeans=True)\n"
          ]
        },
        {
          "output_type": "display_data",
          "data": {
            "text/plain": [
              "<Figure size 1000x600 with 1 Axes>"
            ],
            "image/png": "[encoded data removed]"
          },
          "metadata": {}
        }
      ]
    },
    {
      "cell_type": "markdown",
      "source": [
        "## Part 4: Improving Accuracy\n",
        "\n",
        "Now I try several ways to improve model performance:\n",
        "\n",
        "- Standardizing features for logistic regression\n",
        "- Trying a Random Forest Classifier\n",
        "- Trying an SVM with RBF kernel"
      ],
      "metadata": {
        "id": "zUP866xerIxE"
      }
    },
    {
      "cell_type": "code",
      "source": [
        "scaled_model = make_pipeline(StandardScaler(), LogisticRegression(max_iter=1000))\n",
        "rkf = RepeatedKFold(n_splits=10, n_repeats=5, random_state=1)\n",
        "scaled_scores = cross_val_score(scaled_model, X, y, scoring='accuracy', cv=rkf, n_jobs=-1)\n",
        "print(f\"Standardized Logistic Regression (Repeated 5x10): {np.mean(scaled_scores):.4f}\")"
      ],
      "metadata": {
        "colab": {
          "base_uri": "https://localhost:8080/"
        },
        "id": "8KJbkv0jrKwM",
        "outputId": "82007ea3-7a45-4593-8aab-58003581e8e4"
      },
      "execution_count": null,
      "outputs": [
        {
          "output_type": "stream",
          "name": "stdout",
          "text": [
            "Standardized Logistic Regression (Repeated 5x10): 0.8652\n"
          ]
        }
      ]
    },
    {
      "cell_type": "code",
      "source": [
        "rf_model = RandomForestClassifier(n_estimators=100, random_state=1)\n",
        "rf_scores = cross_val_score(rf_model, X, y, scoring='accuracy', cv=rkf, n_jobs=-1)\n",
        "print(f\"Random Forest (Repeated 5x10): {np.mean(rf_scores):.4f}\")"
      ],
      "metadata": {
        "colab": {
          "base_uri": "https://localhost:8080/"
        },
        "id": "XRsDw0m6rNXF",
        "outputId": "3dd94799-6c96-40fc-fb43-cb47d90d6c2c"
      },
      "execution_count": null,
      "outputs": [
        {
          "output_type": "stream",
          "name": "stdout",
          "text": [
            "Random Forest (Repeated 5x10): 0.9214\n"
          ]
        }
      ]
    },
    {
      "cell_type": "code",
      "source": [
        "svm_model = make_pipeline(StandardScaler(), SVC(kernel='rbf'))\n",
        "svm_scores = cross_val_score(svm_model, X, y, scoring='accuracy', cv=rkf, n_jobs=-1)\n",
        "print(f\"SVM with RBF Kernel (Repeated 5x10): {np.mean(svm_scores):.4f}\")"
      ],
      "metadata": {
        "colab": {
          "base_uri": "https://localhost:8080/"
        },
        "id": "PxAPrZSkrTcc",
        "outputId": "01a12440-3fc3-4a16-8151-c49de7989191"
      },
      "execution_count": null,
      "outputs": [
        {
          "output_type": "stream",
          "name": "stdout",
          "text": [
            "SVM with RBF Kernel (Repeated 5x10): 0.9654\n"
          ]
        }
      ]
    },
    {
      "cell_type": "markdown",
      "source": [
        "## Part 5: Summary and Conclusion\n",
        "\n",
        "This assignment explored the implementation and evaluation of **k-fold and repeated k-fold cross-validation** using synthetic data and various classification models. The key findings are as follows:"
      ],
      "metadata": {
        "id": "yCUBdFiSrWpV"
      }
    },
    {
      "cell_type": "code",
      "source": [
        "print(\"\\nSummary of Model Accuracies:\")\n",
        "print(f\"Original Logistic Regression: {np.mean(scores):.4f}\")\n",
        "print(f\"Standardized Logistic Regression: {np.mean(scaled_scores):.4f}\")\n",
        "print(f\"Random Forest: {np.mean(rf_scores):.4f}\")\n",
        "print(f\"SVM (RBF): {np.mean(svm_scores):.4f}\")"
      ],
      "metadata": {
        "colab": {
          "base_uri": "https://localhost:8080/"
        },
        "id": "4pHkgIcVrY1G",
        "outputId": "b1d8e37c-0b2a-4694-ffaf-ec17a77f9ed4"
      },
      "execution_count": null,
      "outputs": [
        {
          "output_type": "stream",
          "name": "stdout",
          "text": [
            "\n",
            "Summary of Model Accuracies:\n",
            "Original Logistic Regression: 0.8653\n",
            "Standardized Logistic Regression: 0.8652\n",
            "Random Forest: 0.9214\n",
            "SVM (RBF): 0.9654\n"
          ]
        }
      ]
    },
    {
      "cell_type": "markdown",
      "source": [
        "\n",
        "- **Model Accuracy Comparison**  \n",
        "  - Original Logistic Regression: 0.8653  \n",
        "  - Standardized Logistic Regression: 0.8652  \n",
        "  - Random Forest: 0.9214  \n",
        "  - SVM with RBF Kernel: 0.9654\n",
        "\n",
        "The significant accuracy improvement from the SVM model suggests that the synthetic dataset may contain **non-linear patterns** that are not well captured by linear models like logistic regression. The RBF kernel in SVM effectively models these complexities, leading to superior performance.\n",
        "\n",
        "Additionally, **Repeated K-Fold Cross-Validation** proved more reliable than a single 10-fold split. As the number of repeats increased, the variation in model accuracy across folds decreased, which confirms its ability to smooth out the randomness from individual splits and provide a **more stable estimate** of generalization performance.\n",
        "\n",
        "While standardizing features had minimal impact in this specific case, it remains a good practice, particularly when using algorithms sensitive to feature scaling.\n",
        "\n",
        "The **boxplot visualization** was helpful to show accuracy stabilization with more repetitions, but future work could enhance clarity by adding annotations or textual descriptions that interpret the visual trends directly for the reader.\n",
        "\n",
        "---\n",
        "\n",
        "### Final Thoughts\n",
        "\n",
        "- For further improvement, hyperparameter tuning (e.g., via `GridSearchCV`) could be conducted to further optimize each model.\n",
        "- Model **interpretability** and **computational efficiency** should also be considered when applying these methods to real-world data.\n",
        "- Lastly, applying the same methodology to real-world datasets would allow assessment of model robustness under more complex, noisy, or imbalanced conditions.\n",
        "\n",
        "This exercise illustrates that careful **validation strategy**, thoughtful **model selection**, and **result interpretation** are all critical to building effective and reliable machine learning solutions.\n"
      ],
      "metadata": {
        "id": "4AqvjJeSrbnU"
      }
    }
  ]
}